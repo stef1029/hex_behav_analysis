{
 "cells": [
  {
   "cell_type": "markdown",
   "metadata": {},
   "source": [
    "# Video production notebook  \n",
    "Notebook with full data imported for video analysis and production"
   ]
  },
  {
   "cell_type": "code",
   "execution_count": 3,
   "metadata": {},
   "outputs": [
    {
     "name": "stdout",
     "output_type": "stream",
     "text": [
      "Loading cohort info...\n",
      "Cohort info loaded\n",
      "Loading cohort info...\n",
      "Error processing 240312_125346_wtjx287-5b\n",
      "Error processing 240314_131042_wtjx287-5b\n",
      "Cohort info loaded\n"
     ]
    }
   ],
   "source": [
    "# Imports:\n",
    "\n",
    "\n",
    "from matplotlib import pyplot as plt\n",
    "from Session_nwb import Session\n",
    "from pathlib import Path\n",
    "from Cohort_folder import Cohort_folder\n",
    "import json\n",
    "import os\n",
    "import numpy as np\n",
    "from IPython.display import clear_output\n",
    "\n",
    "fig_output = Path(os.getenv(\"fig_output\"))\n",
    "try:\n",
    "    behaviour_data = Path(os.getenv(\"behaviour_data\"))\n",
    "except TypeError:\n",
    "    print('\"behaviour_data\" environment variable does not exist.')\n",
    "    try:\n",
    "        behaviour_data = Path(r\"/lmb/home/srogers/DATA\")\n",
    "    except TypeError:\n",
    "        raise Exception(\"Tried using hex path but not available.\")\n",
    "\n",
    "July_cohort_directory = r\"V:\\Behaviour code\\2407_July_WT_cohort\\Data\"\n",
    "March_cohort_directory = r\"V:\\March_training\"\n",
    "\n",
    "july_cohort = Cohort_folder(July_cohort_directory, multi = True, portable_data = False)\n",
    "july_cohort_info = july_cohort.cohort\n",
    "july_phases = july_cohort.phases()\n",
    "\n",
    "march_cohort = Cohort_folder(March_cohort_directory, multi = True, portable_data = False)\n",
    "march_cohort_info = july_cohort.cohort\n",
    "march_phases = march_cohort.phases()\n",
    "\n",
    "# Import plotting functions:\n",
    "import importlib\n",
    "from Session_nwb import Session"
   ]
  }
 ],
 "metadata": {
  "kernelspec": {
   "display_name": "behaviour_analysis",
   "language": "python",
   "name": "python3"
  },
  "language_info": {
   "codemirror_mode": {
    "name": "ipython",
    "version": 3
   },
   "file_extension": ".py",
   "mimetype": "text/x-python",
   "name": "python",
   "nbconvert_exporter": "python",
   "pygments_lexer": "ipython3",
   "version": "3.10.0"
  }
 },
 "nbformat": 4,
 "nbformat_minor": 2
}
